{
 "cells": [
  {
   "cell_type": "markdown",
   "metadata": {},
   "source": [
    "<h1>Task 1:</h1>\n",
    "\n",
    "<h3>1.1 Write a Python Program to implement your own myreduce() function which works exactly like\n",
    "Python's built-in function reduce()</h3>"
   ]
  },
  {
   "cell_type": "code",
   "execution_count": 1,
   "metadata": {},
   "outputs": [
    {
     "name": "stdout",
     "output_type": "stream",
     "text": [
      "15\n"
     ]
    }
   ],
   "source": [
    "func = lambda a,b:a+b\n",
    "\n",
    "def reduce(nfun,nlist):\n",
    "    result = nlist[0]\n",
    "    for i in range(1,len(nlist)):\n",
    "        result = nfun(result,nlist[i])\n",
    "\n",
    "    return(result)\n",
    "\n",
    "alist=[1,2,3,4,5]\n",
    "\n",
    "print(reduce(func,alist))"
   ]
  },
  {
   "cell_type": "markdown",
   "metadata": {},
   "source": [
    "<h3>Write a Python program to implement your own myfilter() function which works exactly like\n",
    "Python's built-in function filter()</h3>"
   ]
  },
  {
   "cell_type": "code",
   "execution_count": 4,
   "metadata": {},
   "outputs": [
    {
     "name": "stdout",
     "output_type": "stream",
     "text": [
      "Even's in the list: [2, 4, 6]\n"
     ]
    }
   ],
   "source": [
    "even = lambda a:a%2==0\n",
    "\n",
    "def myfilter(nfunc,nlist):\n",
    "    plist=[]\n",
    "    for i in nlist:\n",
    "        if(nfunc(i)):\n",
    "            plist.append(i)\n",
    "\n",
    "    return(plist)\n",
    "\n",
    "alist=[1,2,3,4,5,6]\n",
    "\n",
    "print(\"Even's in the list:\",myfilter(even,alist))"
   ]
  },
  {
   "cell_type": "markdown",
   "metadata": {},
   "source": [
    "<h3>Implement List comprehensions to produce the following lists.\n",
    "Write List comprehensions to produce the following Lists\n",
    "['A', 'C', 'A', 'D', 'G', 'I', ’L’, ‘ D’]\n",
    "['x', 'xx', 'xxx', 'xxxx', 'y', 'yy', 'yyy', 'yyyy', 'z', 'zz', 'zzz', 'zzzz']\n",
    "['x', 'y', 'z', 'xx', 'yy', 'zz', 'xx', 'yy', 'zz', 'xxxx', 'yyyy', 'zzzz']\n",
    "[[2], [3], [4], [3], [4], [5], [4], [5], [6]]\n",
    "[[2, 3, 4, 5], [3, 4, 5, 6], [4, 5, 6, 7], [5, 6, 7, 8]]\n",
    "[(1, 1), (2, 1), (3, 1), (1, 2), (2, 2), (3, 2), (1, 3), (2, 3), (3, 3)]</h3>"
   ]
  },
  {
   "cell_type": "code",
   "execution_count": null,
   "metadata": {},
   "outputs": [],
   "source": [
    "#Didn't quite understand the question!!"
   ]
  },
  {
   "cell_type": "markdown",
   "metadata": {},
   "source": [
    "<h3>Implement a function longestWord() that takes a list of words and returns the longest one.</h3>"
   ]
  },
  {
   "cell_type": "code",
   "execution_count": 7,
   "metadata": {},
   "outputs": [
    {
     "name": "stdout",
     "output_type": "stream",
     "text": [
      "Longest word: happiness\n"
     ]
    }
   ],
   "source": [
    "def longestWord(nlist):\n",
    "    tword = nlist[0]\n",
    "    count = len(tword)\n",
    "    for i in nlist:\n",
    "        if(len(i)>count):\n",
    "            count = len(i)\n",
    "            tword = i\n",
    "    return(tword)\n",
    "\n",
    "print(\"Longest word:\",longestWord(['apple','name','sweet','happiness']))"
   ]
  },
  {
   "cell_type": "markdown",
   "metadata": {},
   "source": [
    "<h3>Write a Python Program(with class concepts) to find the area of the triangle using the below\n",
    "formula.</h3>"
   ]
  },
  {
   "cell_type": "code",
   "execution_count": 9,
   "metadata": {},
   "outputs": [
    {
     "name": "stdout",
     "output_type": "stream",
     "text": [
      "2.9047375096555625\n"
     ]
    }
   ],
   "source": [
    "class TriangleArea:\n",
    "    def __init__(self,a,b,c):\n",
    "        self.s = 0.5*(a+b+c)\n",
    "        self.a = a\n",
    "        self.b = b\n",
    "        self.c = c\n",
    "\n",
    "    def calArea(self):\n",
    "        self.area = (self.s*(self.s-self.a)*(self.s-self.b)*(self.s-self.c)) ** 0.5\n",
    "\n",
    "triA = TriangleArea(2,3,4)\n",
    "triA.calArea()\n",
    "\n",
    "print(triA.area)"
   ]
  },
  {
   "cell_type": "markdown",
   "metadata": {},
   "source": [
    "<h3>Write a function filter_long_words() that takes a list of words and an integer n and returns the list\n",
    "of words that are longer than n.</h3>"
   ]
  },
  {
   "cell_type": "code",
   "execution_count": 11,
   "metadata": {},
   "outputs": [
    {
     "name": "stdout",
     "output_type": "stream",
     "text": [
      "['cde', 'erty']\n"
     ]
    }
   ],
   "source": [
    "def filter_long_words(n,nlist):\n",
    "    alist=[]\n",
    "    for i in nlist:\n",
    "        if(len(i)>n):\n",
    "            alist.append(i)\n",
    "    return(alist)\n",
    "\n",
    "print(filter_long_words(2,['ab','cde','erty']))"
   ]
  },
  {
   "cell_type": "markdown",
   "metadata": {},
   "source": [
    "<h3>Write a Python program using function concept that maps list of words into a list of integers\n",
    "representing the lengths of the corresponding words .</h3>"
   ]
  },
  {
   "cell_type": "code",
   "execution_count": 13,
   "metadata": {},
   "outputs": [
    {
     "name": "stdout",
     "output_type": "stream",
     "text": [
      "[3, 4, 3, 5]\n"
     ]
    }
   ],
   "source": [
    "def word_len(nlist):\n",
    "    alist=[]\n",
    "    for i in nlist:\n",
    "        alist.append(len(i))\n",
    "\n",
    "    return(alist)\n",
    "\n",
    "print(word_len(['abc','defg','hij','klmon']))"
   ]
  },
  {
   "cell_type": "markdown",
   "metadata": {},
   "source": [
    "<h3>Write a Python function which takes a character (i.e. a string of length 1) and returns True if it is\n",
    "a vowel, False otherwise.</h3>"
   ]
  },
  {
   "cell_type": "code",
   "execution_count": 14,
   "metadata": {},
   "outputs": [
    {
     "name": "stdout",
     "output_type": "stream",
     "text": [
      "True\n",
      "True\n",
      "False\n"
     ]
    }
   ],
   "source": [
    "def cvowel(c):\n",
    "    return(True if c=='a' or c=='e' or c=='i' or c=='o' or c=='u' else False)\n",
    "\n",
    "print(cvowel('a'))\n",
    "print(cvowel('e'))\n",
    "print(cvowel('m'))\n"
   ]
  }
 ],
 "metadata": {
  "kernelspec": {
   "display_name": "Python 3",
   "language": "python",
   "name": "python3"
  },
  "language_info": {
   "codemirror_mode": {
    "name": "ipython",
    "version": 3
   },
   "file_extension": ".py",
   "mimetype": "text/x-python",
   "name": "python",
   "nbconvert_exporter": "python",
   "pygments_lexer": "ipython3",
   "version": "3.7.1"
  }
 },
 "nbformat": 4,
 "nbformat_minor": 2
}
